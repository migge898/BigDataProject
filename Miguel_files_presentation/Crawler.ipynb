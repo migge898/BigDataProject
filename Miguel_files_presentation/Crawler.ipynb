{
 "cells": [
  {
   "cell_type": "code",
   "execution_count": 4,
   "metadata": {},
   "outputs": [],
   "source": [
    "import requests\n",
    "import csv\n",
    "from bs4 import BeautifulSoup"
   ]
  },
  {
   "cell_type": "code",
   "execution_count": 19,
   "metadata": {},
   "outputs": [],
   "source": [
    "def getSummaryText(link):\n",
    "    r = requests.get(link)\n",
    "    \n",
    "    doc = BeautifulSoup(r.text, \"html.parser\")\n",
    "    print(doc.find(\"p\").text)"
   ]
  },
  {
   "cell_type": "code",
   "execution_count": 20,
   "metadata": {},
   "outputs": [
    {
     "name": "stdout",
     "output_type": "stream",
     "text": [
      "Am\n",
      "  28. Juni 2021\n",
      "  wurden in Deutschland\n",
      "  588.066\n",
      "  Impfdosen verabreicht. Damit sind nun\n",
      "  29.803.258\n",
      "  Personen (35,8 %\n",
      "  der Gesamt­bevölkerung) vollständig geimpft. Insgesamt haben\n",
      "  44.886.784\n",
      "  Personen\n",
      "  (54,0 %) mindestens eine Impf­dosis erhalten.\n"
     ]
    }
   ],
   "source": [
    "getSummaryText(\"https://impfdashboard.de/\")"
   ]
  }
 ],
 "metadata": {
  "kernelspec": {
   "display_name": "Python 3",
   "language": "python",
   "name": "python3"
  },
  "language_info": {
   "codemirror_mode": {
    "name": "ipython",
    "version": 3
   },
   "file_extension": ".py",
   "mimetype": "text/x-python",
   "name": "python",
   "nbconvert_exporter": "python",
   "pygments_lexer": "ipython3",
   "version": "3.7.6"
  }
 },
 "nbformat": 4,
 "nbformat_minor": 4
}
