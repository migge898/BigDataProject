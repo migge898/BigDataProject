{
 "cells": [
  {
   "cell_type": "code",
   "execution_count": 2,
   "metadata": {},
   "outputs": [],
   "source": [
    "import requests\n",
    "import csv\n",
    "from bs4 import BeautifulSoup"
   ]
  },
  {
   "cell_type": "code",
   "execution_count": 2,
   "metadata": {},
   "outputs": [],
   "source": [
    "def getTable(link):\n",
    "    data = []\n",
    "    r = requests.get(link)\n",
    "    \n",
    "    doc = BeautifulSoup(r.text, \"html.parser\")\n",
    "    table = doc.find(\"table\")\n",
    "    table_body = table.find(\"tbody\")\n",
    "    rows = table_body.find_all(\"tr\")\n",
    "    for row in rows:\n",
    "        cols = row.find_all('td')\n",
    "        cols = [ele.text.strip() for ele in cols]\n",
    "        data.append([ele for ele in cols if ele])\n",
    "#     for d in data:\n",
    "#         for dd in d:\n",
    "#             dd = dd.replace(u'\\xad', u'-',2)\n",
    "    return data"
   ]
  },
  {
   "cell_type": "code",
   "execution_count": 6,
   "metadata": {},
   "outputs": [
    {
     "data": {
      "text/plain": [
       "[['Baden-Württem\\xadberg', '503.115', '258', '1.068', '9,6', '10.354'],\n",
       " ['Bayern', '650.901', '333', '1.454', '11,1', '15.309'],\n",
       " ['Berlin', '181.593', '251', '800', '21,8', '3.576'],\n",
       " ['Branden\\xadburg', '108.971', '0', '121', '4,8', '3.815'],\n",
       " ['Bremen', '27.662', '23', '95', '13,9', '492'],\n",
       " ['Hamburg', '78.047', '64', '276', '14,9', '1.606'],\n",
       " ['Hessen', '292.951', '228', '946', '15,0', '7.569'],\n",
       " ['Meck\\xadlenburg-\\nVor\\xadpommern', '44.253', '6', '49', '3,0', '1.165'],\n",
       " ['Nieder\\xadsachsen', '262.887', '232', '1.012', '12,7', '5.805'],\n",
       " ['Nord\\xadrhein-West\\xadfalen', '821.135', '501', '2.480', '13,8', '17.254'],\n",
       " ['Rhein\\xadland-Pfalz', '156.305', '136', '494', '12,1', '3.895'],\n",
       " ['Saarland', '41.759', '44', '133', '13,5', '1.029'],\n",
       " ['Sachsen', '286.233', '24', '118', '2,9', '10.121'],\n",
       " ['Sachsen-Anhalt', '99.368', '13', '65', '3,0', '3.436'],\n",
       " ['Schles\\xadwig-Holstein', '64.436', '59', '289', '10,0', '1.628'],\n",
       " ['Thüringen', '128.997', '31', '102', '4,8', '4.362'],\n",
       " ['Gesamt', '3.748.613', '2.203', '9.502', '11,4', '91.416']]"
      ]
     },
     "execution_count": 6,
     "metadata": {},
     "output_type": "execute_result"
    }
   ],
   "source": [
    "data = getTable(\"https://www.rki.de/DE/Content/InfAZ/N/Neuartiges_Coronavirus/Fallzahlen.html\")\n",
    "data"
   ]
  },
  {
   "cell_type": "code",
   "execution_count": 22,
   "metadata": {},
   "outputs": [],
   "source": [
    "import requests\n",
    "import mysql.connector\n",
    "import time\n",
    "\n",
    "from bs4 import BeautifulSoup\n",
    "from datetime import datetime\n",
    "\n",
    "\n",
    "mydb = mysql.connector.connect(\n",
    "  host=\"localhost\",\n",
    "  user=\"test\",\n",
    "  password=\"uaLAygor\",\n",
    "  database=\"gr8covid\"\n",
    ")\n",
    "\n",
    "mycursor = mydb.cursor()\n",
    "\n",
    "link = \"https://www.rki.de/DE/Content/InfAZ/N/Neuartiges_Coronavirus/Fallzahlen.html\"\n",
    "r = requests.get(link)\n",
    "doc = BeautifulSoup(r.text, \"html.parser\")\n",
    "\n",
    "table = doc.find(\"table\")\n",
    "table_body = table.find(\"tbody\")\n",
    "rows = table_body.find_all(\"tr\")\n",
    "\n",
    "bundeslaender = [\"baden-wuerttemberg\",\"bayern\",\"berlin\",\"brandenburg\",\"bremen\",\"hamburg\", \"hessen\",\"mecklenburg-vorpommern\",\"niedersachsen\",\"nordrhein-westfalen\",\"rheinland-pfalz\",\"saarland\",\"sachsen\",\"sachsen-anhalt\",\"schleswig-holstein\",\"thueringen\"]\n",
    "mydb.rollback()\n",
    "\n",
    "for row,b in zip(rows, bundeslaender):\n",
    "    cols = row.find_all('td')\n",
    "    cols = [ele.text.strip() for ele in cols]\n",
    "    data = [ele for ele in cols if ele]\n",
    "    data = data[1:]\n",
    "\n",
    "    timestamp = datetime.now().strftime('%Y-%m-%d %H:%M:%S')\n",
    "    timee = doc.find_all(\"p\")[12]\n",
    "    t_time = str(timee)[19:35].replace(\",\", \"\")\n",
    "    zeitStand = datetime.strptime(t_time,'%d.%m.%Y %H:%M').strftime('%Y-%m-%d %H:%M:%S')\n",
    "    zeitStand = doc.find_all(\"p\")[12]\n",
    "    zeitStand = str(zeitStand)[19:35].replace(\",\", \"\")\n",
    "    zeitStand = datetime.strptime(t_time,'%d.%m.%Y %H:%M').strftime('%Y-%m-%d %H:%M:%S')\n",
    "\n",
    "    anzahl = int(str(data[0]).replace(\".\", \"\"))\n",
    "    diff = int(str(data[1]).replace(\".\", \"\"))\n",
    "    faelle7 = int(str(data[2]).replace(\".\", \"\"))\n",
    "    inzidenz7 = float(data[3].replace(\",\", \".\"))\n",
    "    todesfaelle = int(str(data[4]).replace(\".\", \"\"))\n",
    "\n",
    "    rawZeitStand = str(doc.find_all(\"p\")[12])\n",
    "    rawAnzahl = str(data[0])\n",
    "    rawDiff = str(data[1])\n",
    "    rawFaelle7 = str(data[2])\n",
    "    rawInzidenz7 = str(data[3])\n",
    "    rawTodesfaelle = str(data[4])\n",
    "\n",
    "    html_raw = str(doc)\n",
    "\n",
    "    mySql_insert_query = \"INSERT INTO covid19_cases_rki  (zeit_abgerufen ,zeit_datenstand,bundesland ,anzahl ,differenz_zum_vortag ,faelle_letzte_7_tage ,_7_tage_inzidenz , todesfaelle ,zeit_datenstand_raw ,anzahl_raw ,differenz_zum_vortag_raw ,faelle_letzte_7_tage_raw ,_7_tage_inzidenz_raw ,todesfaelle_raw ,html_raw ) VALUES (%s,%s,%s,%s,%s,%s,%s,%s,%s,%s,%s,%s,%s,%s,%s)\"\n",
    "    record = (timestamp, zeitStand, b, anzahl, diff, faelle7, inzidenz7, todesfaelle, rawZeitStand[:20], rawAnzahl, rawDiff, rawFaelle7, rawInzidenz7, rawTodesfaelle, html_raw)\n",
    "    mycursor.execute(mySql_insert_query, record)\n",
    "\n",
    "mydb.commit()\n",
    "mycursor.close()\n",
    "mydb.close()  "
   ]
  },
  {
   "cell_type": "code",
   "execution_count": 18,
   "metadata": {},
   "outputs": [],
   "source": [
    "mydb.commit()"
   ]
  },
  {
   "cell_type": "code",
   "execution_count": 37,
   "metadata": {},
   "outputs": [
    {
     "name": "stdout",
     "output_type": "stream",
     "text": [
      "23.7.2021 00:00\n",
      "<module 'time' (built-in)>\n",
      "2021-07-24 17:23:14\n",
      "2021-07-23 00:00:00\n"
     ]
    }
   ],
   "source": [
    "import time\n",
    "timestamp = datetime.now().strftime('%Y-%m-%d %H:%M:%S')\n",
    "t_time = str(timee)[19:35].replace(\",\", \"\")\n",
    "print(t_time)\n",
    "time_stand = datetime.strptime(t_time,'%d.%m.%Y %H:%M').strftime('%Y-%m-%d %H:%M:%S')\n",
    "print(time)\n",
    "print(timestamp)\n",
    "print(time_stand)"
   ]
  },
  {
   "cell_type": "code",
   "execution_count": 75,
   "metadata": {},
   "outputs": [],
   "source": [
    "import pandas as pd\n",
    "import numpy as np\n",
    "import datetime\n",
    "arr = np.array(data)\n",
    "head = [\"Bundesland\", \"Anzahl\",\"Differenz zum Vortag\",\"Fälle in den letzten 7 Tagen\",\"7-Tage-Inzidenz\",\"Todesfälle\"]\n",
    "file = pd.DataFrame(data=arr,columns=head)\n",
    "date = str(datetime.date.today())\n",
    "file.to_csv(\"./GermanyCovidCases_\"+date+\".csv\")"
   ]
  }
 ],
 "metadata": {
  "kernelspec": {
   "display_name": "Python 3",
   "language": "python",
   "name": "python3"
  },
  "language_info": {
   "codemirror_mode": {
    "name": "ipython",
    "version": 3
   },
   "file_extension": ".py",
   "mimetype": "text/x-python",
   "name": "python",
   "nbconvert_exporter": "python",
   "pygments_lexer": "ipython3",
   "version": "3.7.6"
  }
 },
 "nbformat": 4,
 "nbformat_minor": 4
}
