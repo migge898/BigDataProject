{
 "cells": [
  {
   "cell_type": "code",
   "execution_count": 6,
   "metadata": {},
   "outputs": [],
   "source": [
    "import requests\n",
    "from bs4 import BeautifulSoup\n",
    "r = requests.get(\"https://www.wetteronline.de/wetter/baden-wuerttemberg\")"
   ]
  },
  {
   "cell_type": "code",
   "execution_count": 51,
   "metadata": {},
   "outputs": [
    {
     "name": "stdout",
     "output_type": "stream",
     "text": [
      "\n",
      "      Aalen\n",
      "      \n",
      "       16°C\n",
      "     \n",
      "\n",
      "      Feldberg\n",
      "      \n",
      "       10°C\n",
      "     \n",
      "\n",
      "      Freiburg\n",
      "      \n",
      "       20°C\n",
      "     \n",
      "\n",
      "      Freudenstadt\n",
      "      \n",
      "       14°C\n",
      "     \n",
      "\n",
      "      Karlsruhe\n",
      "      \n",
      "       18°C\n",
      "     \n",
      "\n",
      "      Konstanz\n",
      "      \n",
      "       19°C\n",
      "     \n",
      "\n",
      "      Mannheim\n",
      "      \n",
      "       19°C\n",
      "     \n",
      "\n",
      "      Offenburg\n",
      "      \n",
      "       18°C\n",
      "     \n",
      "\n",
      "      Schwaeb. Hall\n",
      "      \n",
      "       16°C\n",
      "     \n",
      "\n",
      "      Stuttgart\n",
      "      \n",
      "       17°C\n",
      "     \n",
      "\n",
      "      Tuttlingen\n",
      "      \n",
      "       17°C\n",
      "     \n",
      "\n",
      "      Ulm\n",
      "      \n",
      "       17°C\n",
      "     \n"
     ]
    }
   ],
   "source": [
    "\n",
    "doc = BeautifulSoup( r.text,\"html.parser\")\n",
    "for row in doc.select_one(\".sortabletable_teaser\").select(\"li\"):\n",
    "    name  = row.select_one(\".loccol\")\n",
    "    degree  = row.select(\"span\")\n",
    "    print(name.text, degree[2].text)"
   ]
  },
  {
   "cell_type": "code",
   "execution_count": null,
   "metadata": {},
   "outputs": [],
   "source": []
  }
 ],
 "metadata": {
  "kernelspec": {
   "display_name": "Python 3",
   "language": "python",
   "name": "python3"
  },
  "language_info": {
   "codemirror_mode": {
    "name": "ipython",
    "version": 3
   },
   "file_extension": ".py",
   "mimetype": "text/x-python",
   "name": "python",
   "nbconvert_exporter": "python",
   "pygments_lexer": "ipython3",
   "version": "3.8.5"
  }
 },
 "nbformat": 4,
 "nbformat_minor": 4
}
